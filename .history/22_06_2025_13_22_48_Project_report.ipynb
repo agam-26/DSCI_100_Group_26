{
 "cells": [
  {
   "cell_type": "markdown",
   "id": "c55fc75d-d40d-4927-b5a7-ebc9c6dd554e",
   "metadata": {},
   "source": [
    "# DSCI 100 Project Report\n",
    "## Predicting time windows with high-demand usage for efficient allocation of licenses\n",
    "### Introduction\n",
    "Over the past few decades, digital technology has advanced more rapidly than any other human innovation and has reached the point where our society is almost completely dependent on it. The increasing volume of data, as a consequence of such advancement, has made data science is one of the fastest growing field across every industry(IBM, 2021).\n",
    "\n",
    "A popular field where the importance of data science has skyrocketed is the gaming industry. With the use of data, developers can patterns and preferences, enabling them enhance the gaming experince of the players(Whitehead, 2024). Data science helps gaming companies develop \"effective monetisation strategies\" (Whitehead, 2024) by examining the spending patterns of the players and forecasting behaviour. In this porject, data science methods will be used to explore a dataset, extracted from the Minecraft server, in an attempt to predict the time windows where player activity patterns are high. Using these predictions will allow better allocation of server licenses. The data, collected by a research group in Computer Science led by Frank Wood at UBC Point Grey Campus, will be used to answer the question: which day of the week is a player most likely to log on based on their age, gender and experience?\n",
    " \n",
    "\n",
    "\n",
    "#### Data Description: identify and fully describe the dataset that was used to answer the question. Provide a full descriptive summary of the dataset, including information such as the number of observations, summary statistics, number of variables, name and type of variables, what the variables mean, any issues you see in the data, any other potential issues related to things you cannot directly see, how the data were collected, etc. Make sure to use bullet point lists or tables to summarize the variables in an easy-to-understand format. Note that the selected dataset(s) will probably contain more variables than you need. "
   ]
  },
  {
   "cell_type": "markdown",
   "id": "6a9947fc-0627-4a71-b450-a976d746f5d3",
   "metadata": {},
   "source": [
    "Rough Description \n",
    "Dataset 1: Player Characteristics and Behaviors\n",
    "Aspect\tDetails\n",
    "Number of observations\t27 (players)\n",
    "Number of variables\t7\n",
    "Variables:\t\n",
    "- experience\tCategorical (factor) — Player experience level (e.g., Pro, Veteran, Amateur, Regular, Beginner)\n",
    "- subscribe\tLogical — Whether the player is subscribed to the game-related newsletter (TRUE/FALSE)\n",
    "- hashedEmail\tCharacter — Unique hashed identifier for each player (anonymized email)\n",
    "- played_hours\tNumeric — Total hours the player has played on the server\n",
    "- name\tCharacter — Player name\n",
    "- gender\tCategorical (factor) — Player gender (Male, Female, Non-binary)\n",
    "- Age\tNumeric — Age of the player in years\n",
    "\n",
    "Summary Statistics (selected numeric variables):\n",
    "Age ranges from 8 to 25 years.\n",
    "\n",
    "Played hours vary from 0 to 48.4 hours, with many players having low or zero hours.\n",
    "\n",
    "Notes & Potential Issues:\n",
    "Small sample size (27 players).\n",
    "\n",
    "Some players have zero playtime — may represent inactive accounts or new users.\n",
    "\n",
    "Gender categories include Male, Female, and Non-binary — good inclusivity.\n",
    "\n",
    "Age distribution is skewed towards younger players (mostly teens).\n",
    "\n",
    "Data collection method: presumably logged from server and survey data (for demographics).\n",
    "\n",
    "Player identities anonymized by hashing emails.\n",
    "\n",
    "Dataset 2: Gameplay Session Logs\n",
    "Aspect\tDetails\n",
    "Number of observations\t24 (gameplay sessions)\n",
    "Number of variables\t5\n",
    "Variables:\t\n",
    "- hashedEmail\tCharacter — Hashed unique player identifier, matches Dataset 1\n",
    "- start_time\tDate-time string — Timestamp when session started (format: dd/mm/yyyy HH:MM)\n",
    "- end_time\tDate-time string — Timestamp when session ended\n",
    "- original_start_time\tNumeric — Unix epoch timestamp for session start (milliseconds since 1970-01-01)\n",
    "- original_end_time\tNumeric — Unix epoch timestamp for session end\n",
    "\n",
    "Notes & Potential Issues:\n",
    "Sessions have varying lengths, some very short (minutes).\n",
    "\n",
    "Dates span from April to August 2024.\n",
    "\n",
    "Timestamps are in local time (assumed), but time zones are not explicitly mentioned.\n",
    "\n",
    "Data linkage: hashedEmail connects this to player info.\n",
    "\n",
    "Session data allows calculation of session duration, day of week, time of day.\n",
    "\n",
    "Only 24 sessions recorded here — possibly a subset of total gameplay.\n",
    "\n",
    "Some players have multiple sessions (repeat rows with same hashedEmail)."
   ]
  },
  {
   "cell_type": "code",
   "execution_count": null,
   "id": "72ab76d9-013a-4cc7-ae14-501152b8bac8",
   "metadata": {},
   "outputs": [],
   "source": [
    "# importing libraries\n",
    "library(tidyverse)\n",
    "library(tidymodels)\n",
    "library(repr)\n",
    "library(RColorBrewer)\n",
    "library(ggplot2)\n",
    "#setting seed \n",
    "set.seed(26)"
   ]
  },
  {
   "cell_type": "code",
   "execution_count": null,
   "id": "2d2675b0-7cae-4c48-a354-c37d9ffdff84",
   "metadata": {},
   "outputs": [],
   "source": [
    "# Importing the data sets  \n",
    "\n",
    "#Data set 1 - players (A list of all unique players, including data about each player)\n",
    "players <- read_csv(\"data/players.csv\")\n",
    "#Data set 2 - sessions (A list of individual play sessions by each player, including data about the session.)\n",
    "session <- read_csv(\"data/sessions.csv\")\n",
    "#players\n",
    "#session"
   ]
  },
  {
   "cell_type": "code",
   "execution_count": null,
   "id": "39878001-18b2-422e-ab2a-0223e06f0e16",
   "metadata": {},
   "outputs": [],
   "source": [
    "# Finding the age range of the players\n",
    "players_age_analysis <- players |>\n",
    "                        summarize (min_player_age = min(Age, na.rm = TRUE), \n",
    "                                   max_player_age = max(Age, na.rm = TRUE))\n",
    "# players_age_analysis\n",
    "\n",
    "## age range is from 8-50\n"
   ]
  },
  {
   "cell_type": "code",
   "execution_count": null,
   "id": "0022b67e-cb10-4f8d-8ac1-3e55a0309237",
   "metadata": {},
   "outputs": [],
   "source": [
    "# combining the data \n",
    "combined_data <- merge(players, session, by = \"hashedEmail\") |>\n",
    "                    head()\n",
    "combined_data"
   ]
  },
  {
   "cell_type": "code",
   "execution_count": null,
   "id": "e614e0ec-e4ea-4e14-8d7a-ebb9a526f809",
   "metadata": {},
   "outputs": [],
   "source": [
    "#  visulaizing relationships\n",
    "#visual_data <- combined_data |>\n",
    "#        select(experience, gender, Age)\n",
    "#\n",
    "#visuals <- visual_data |> \n",
    "#        ggpairs(aes(alpha = 0.05)) +\n",
    "#        theme(text = element_text(size = 20)) \n",
    "#visuals\n",
    "        "
   ]
  },
  {
   "cell_type": "code",
   "execution_count": null,
   "id": "82b3126d-ff47-479e-aea2-a703037ebd7c",
   "metadata": {},
   "outputs": [],
   "source": []
  },
  {
   "cell_type": "markdown",
   "id": "ee8397d5-5030-4d2f-bfe2-e6efd6de68d5",
   "metadata": {},
   "source": [
    "## Cleaning Data"
   ]
  },
  {
   "cell_type": "code",
   "execution_count": null,
   "id": "659dc71d-993a-4273-a442-686fac509558",
   "metadata": {},
   "outputs": [],
   "source": [
    "# converting start and end time to days of the week \n",
    "combined_data_weekdays <- combined_data |>\n",
    "mutate( start_time = dmy_hm(start_time),\n",
    "    end_time = dmy_hm(end_time),\n",
    "    start_day_of_week = wday(start_time, label = TRUE, abbr = FALSE), \n",
    "    end_day_of_week = wday(end_time, label = TRUE, abbr = FALSE))\n",
    "# Now we have start time and end time in terms of weekdays ! \n",
    "# source - https://lubridate.tidyverse.org/reference/day.html"
   ]
  },
  {
   "cell_type": "code",
   "execution_count": null,
   "id": "4ba31017-5900-4658-9509-d163dac00e5f",
   "metadata": {},
   "outputs": [],
   "source": [
    "# predict day of the week using age, gender and experience\n",
    "polished_data <- combined_data_weekdays |>\n",
    "        mutate(gender = as_factor(gender), experience = as_factor(experience)) |>\n",
    "        select(gender, experience, Age,start_day_of_week, end_day_of_week)\n",
    "#polished_data\n",
    "# perfect, now we can start splitting the data set"
   ]
  },
  {
   "cell_type": "code",
   "execution_count": null,
   "id": "e9758495-330d-495f-b00c-a43bc6342571",
   "metadata": {},
   "outputs": [],
   "source": [
    "#Splitting the data \n"
   ]
  },
  {
   "cell_type": "code",
   "execution_count": null,
   "id": "0ce2a699-870b-4e59-a95e-4342d5187dfe",
   "metadata": {},
   "outputs": [],
   "source": []
  },
  {
   "cell_type": "code",
   "execution_count": null,
   "id": "c19564dd-5873-4a32-9bf3-fa9302b440ae",
   "metadata": {},
   "outputs": [],
   "source": []
  },
  {
   "cell_type": "markdown",
   "id": "02a71b7a-6648-490e-98e8-44c0b97f6b41",
   "metadata": {},
   "source": [
    "References - \n",
    "1. IBM. (2021, September 21). Data science: Transforming the future with artificial intelligence. IBM. Retrieved June 20, 2025, from https://www.ibm.com/think/topics/data-science\n",
    "2. Whitehead, R. (2024, May 23). Role of data science in the gaming industry. I.O.A. Global. Retrieved June 20, 2025, from https://ioaglobal.org/blog/role-of-data-science-in-gaming-industry/\n",
    "3. Tidyverse. (2024, December 8). Get/set days component of a date-time. lubridate. https://lubridate.tidyverse.org/reference/day.html"
   ]
  },
  {
   "cell_type": "code",
   "execution_count": null,
   "id": "a75a2ad7-da39-48dc-a321-eb9ef1b7db09",
   "metadata": {},
   "outputs": [],
   "source": []
  }
 ],
 "metadata": {
  "kernelspec": {
   "display_name": "R",
   "language": "R",
   "name": "ir"
  },
  "language_info": {
   "codemirror_mode": "r",
   "file_extension": ".r",
   "mimetype": "text/x-r-source",
   "name": "R",
   "pygments_lexer": "r",
   "version": "4.3.3"
  }
 },
 "nbformat": 4,
 "nbformat_minor": 5
}
