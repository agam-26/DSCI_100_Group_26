{
 "cells": [
  {
   "cell_type": "markdown",
   "id": "c55fc75d-d40d-4927-b5a7-ebc9c6dd554e",
   "metadata": {},
   "source": [
    "# DSCI 100 Project Report\n",
    "## Predicting time windows with high-demand usage for efficient allocation of licenses\n",
    "### Introduction\n",
    "Over the past few decades, digital technology has advanced more rapidly than any other human innovation and has reached the point where our society is almost completely dependent on it. The increasing volume of data, as a consequence of such advancement, has made data science one of the fastest growing fields across every industry(IBM, 2021). <br>\n",
    "\n",
    "A popular field where the importance of data science has skyrocketed is the gaming industry. With the use of data, developers can identify patterns and preferences, enabling them to enhance the gaming experience for players(Whitehead, 2024). Data science helps gaming companies develop \"effective monetisation strategies\" (Whitehead, 2024) by examining the spending patterns of the players and forecasting their behaviour. In this project, I used data science methods to explore a dataset, extracted from the Minecraft server, in an attempt to predict the time windows where player activity patterns are high. Using these predictions will allow better allocation of server licenses. The data, collected by a research group in Computer Science led by Frank Wood at UBC Point Grey Campus, will be used to answer the question: Which day of the week is a player most likely to log on based on their age, gender and experience? <br>\n",
    " \n",
    "\n",
    "This predictive analysis will help companies understand player usage patterns and allow them to determine the allocation of licenses during different time windows throughout the week. To answer the question, two datasets were used: players.csv and sessions.csv. These datasets were merged using a common identifier, hashedEmail, to be able to view player characteristics along with their session timings. <br><br>\n",
    "##### Dataset 1: Player Details (players.csv) <br>\n",
    "This dataset contains information about the players registered with the Minecraft server. Each row represents observations about a unique player.<br>\n",
    "Number of observations - 196<br>\n",
    "Number of variables - 7<br><br>\n",
    "##### Dataset 2: Session Details (sessions.csv) <br>\n",
    "This dataset contains information about the players' sessions along with the start and end of session timestamp<br>\n",
    "Number of observations - 1534<br>\n",
    "Number of variables - 5<br><br>\n",
    "##### Variables <br>\n",
    "1. hashedEmail(chr): A unique, anonymized identifier for each player, containing encrypted email addresses to protect their privacy.<br>\n",
    "2. name(chr): The name of the players registered with the server<br>\n",
    "3. gender(chr): The players' self identified gender (Male, Female, Non-binary, Two-Spirited, Prefer not to say, Agender, Other)<br>\n",
    "4. experience(chr): Player's experience level (Beginner, Amateur, Regular, Pro, Veteran)<br>\n",
    "5. Age(dbl): Age of the player. (Age range is from 8-50)<br>\n",
    "6. subscribe(lgl): Whether the player has subscribed to the newsletter or not. (TRUE/FALSE)<br>\n",
    "7. played_hours(dbl): Total hours played by a player (ranging from 0 - 225)<br>\n",
    "8. start_time(chr) - timestamp for the start of each player's session (reported as date and time - Day/Month/Year Hour:Minute)<br>\n",
    "9. end_time(chr) - timestamp for the end of each player's session (reported as date and time - Day/Month/Year Hour:Minute)<br>\n",
    "10. original_start_time(dbl)- session start time stamp reported in milliseconds<br>\n",
    "11. original_end_time(dbl)- session end time stamp reported in milliseconds<br>\n",
    "\n",
    "Data Summary characteristics - \n",
    "- Most of the players reported their gender as male.\n",
    "- The mean age of players is around 20.52 years, with most players being around 19 years of age.\n",
    "- Most of the players are at the Amateur experience level(63), while only 14 players are at the Pro experience level.\n",
    "  "
   ]
  },
  {
   "cell_type": "markdown",
   "id": "4b218367-2f0f-4e26-ad1e-ffebf9b8b858",
   "metadata": {},
   "source": [
    "### Methods & Results\n",
    "I started by loading all the relevant packages needed and then load the 2 datasets using read_csv() function from the readr package. After that, I merged the datasets by PlayerID(the common variable between the 2 datasets) to compare the relevant variables side by side. \n",
    "\n",
    "##### Loading the Data and setting seed value "
   ]
  },
  {
   "cell_type": "code",
   "execution_count": null,
   "id": "86d8f6e9-ff48-4bdc-b3d0-40859bfb62b8",
   "metadata": {},
   "outputs": [],
   "source": [
    "### Loading the Data and setting seed value \n",
    "# importing libraries\n",
    "library(tidyverse)\n",
    "library(tidymodels)\n",
    "library(repr)\n",
    "library(RColorBrewer)\n",
    "library(ggplot2)\n",
    "#setting seed \n",
    "set.seed(26)"
   ]
  },
  {
   "cell_type": "markdown",
   "id": "d9cc18fc-23fe-4721-a988-d3a52ea6b1c2",
   "metadata": {},
   "source": [
    "##### Import the datasets"
   ]
  },
  {
   "cell_type": "code",
   "execution_count": null,
   "id": "f02c82fb-b7f9-4d06-9406-7adccf67663a",
   "metadata": {},
   "outputs": [],
   "source": [
    "# Importing the data sets  \n",
    "\n",
    "#Data set 1 - players (A list of all unique players, including data about each player)\n",
    "players <- read_csv(\"data/players.csv\")\n",
    "#Data set 2 - sessions (A list of individual play sessions by each player, including data about the session.)\n",
    "session <- read_csv(\"data/sessions.csv\")\n",
    "\n",
    "# Merge datasets using hashedEmail\n",
    "combined_data <- merge(players, session, by = \"hashedEmail\") "
   ]
  },
  {
   "cell_type": "markdown",
   "id": "01759eb3-745e-405b-8953-72801a6371a4",
   "metadata": {},
   "source": [
    "##### Data Cleaning and Wrangling\n",
    "I manipulated the data by changing the time-related variables to appropriate weekday format using the fucntions from the lubridate package within the tidyverse metapackage. I also clean the data by removing missing values (na) as these could hinder my analysis and produce inaccurate results."
   ]
  },
  {
   "cell_type": "code",
   "execution_count": null,
   "id": "e7445c5d-9ed9-44a0-8d16-e16ed75b6ca7",
   "metadata": {},
   "outputs": [],
   "source": [
    "# converting start and end time from Day/Month/Year Hour:Minute format to days of the week \n",
    "combined_data_weekdays <- combined_data |>\n",
    "mutate( start_time = dmy_hm(start_time),\n",
    "    end_time = dmy_hm(end_time),\n",
    "    start_day_of_week = wday(start_time, label = TRUE, abbr = FALSE), \n",
    "    end_day_of_week = wday(end_time, label = TRUE, abbr = FALSE))\n",
    "\n",
    "# Selecting and modifying columns\n",
    "polished_data <- combined_data_weekdays |>\n",
    "        mutate(gender = as_factor(gender), experience = as_factor(experience)) |>\n",
    "        select(gender, experience, Age, start_day_of_week) \n",
    "\n",
    "# Remove missing values\n",
    "# Missing Data: Some players have missing  information (e.g., age or gender). These rows were removed before model fitting\n",
    "polished_data <- polished_data |> drop_na()"
   ]
  },
  {
   "cell_type": "markdown",
   "id": "212da795-da36-46a8-93e8-cc205213feb7",
   "metadata": {},
   "source": [
    "##### Summary Statistics\n",
    "I summarized the data to look at various data trends and statistics."
   ]
  },
  {
   "cell_type": "code",
   "execution_count": null,
   "id": "bf55ffab-e07d-459e-9728-ce1f9ec33790",
   "metadata": {},
   "outputs": [],
   "source": [
    "# Summary of Age\n",
    "players_summary <- players |>\n",
    "  summarize(\n",
    "    n_players = n(),\n",
    "    min_age = min(Age, na.rm = TRUE),\n",
    "    max_age = max(Age, na.rm = TRUE),\n",
    "    mean_age = mean(Age, na.rm = TRUE),\n",
    "    median_age = median(Age, na.rm = TRUE),\n",
    "    sd_age = sd(Age, na.rm = TRUE))\n",
    "\n",
    "\n",
    "# Summary by Gender and Experience\n",
    "gender_summary <- players |>\n",
    "  group_by(gender) |>\n",
    "  summarize(count = n())\n",
    "\n",
    "experience_summary <- players |>\n",
    "  group_by(experience) |>\n",
    "  summarize(count = n())\n",
    "\n",
    "# Sessions by Weekday\n",
    "weekday_activity <- combined_data_weekdays |>\n",
    "  count(start_day_of_week, sort = TRUE)\n",
    "\n",
    "############################ Plot\n",
    "weekday_summary <- combined_data |>\n",
    "  count(weekday) |>\n",
    "  arrange(desc(n)) \n",
    "\n",
    "options(repr.plot.width = 12, repr.plot.height = 12)\n",
    "ggplot(weekday_summary, aes(x = reorder(weekday, -n), y = n)) +\n",
    "  geom_bar(stat = \"identity\", fill = \"steelblue\") +\n",
    "  labs(title = \"Gameplay Sessions by Weekday\",\n",
    "       x = \"Weekday\",\n",
    "       y = \"Number of Sessions\") +\n",
    "  theme(text = element_text(size = 12))"
   ]
  },
  {
   "cell_type": "markdown",
   "id": "4ce90780-bad9-4a58-9ba0-06c47dc7c595",
   "metadata": {},
   "source": [
    "##### Model Building: K-Nearest Neighbours (KNN) Classification\n",
    " I used a K-Nearest Neighbors (KNN) classification model to answer my predictive question."
   ]
  },
  {
   "cell_type": "code",
   "execution_count": null,
   "id": "954d49bd-3dcf-4f16-822c-c3f504d1c160",
   "metadata": {},
   "outputs": [],
   "source": [
    "# Split the data \n",
    "data_split <- initial_split(polished_data, prop = 0.7, strata = start_day_of_week)\n",
    "training_set <- training(data_split)\n",
    "testing_set <- testing(data_split)\n",
    "\n",
    "# Set up recipe\n",
    "knn_recipe <- recipe(start_day_of_week ~ Age + gender + experience, data = training_set)\n",
    "\n",
    "# KNN model specification with tuning\n",
    "knn_spec <- nearest_neighbor(weight_func = \"rectangular\", neighbors = tune()) |>\n",
    "  set_engine(\"kknn\") |>\n",
    "  set_mode(\"classification\")\n",
    "\n",
    "# Cross-validation\n",
    "knn_vfold <- vfold_cv(training_set, v = 5, strata = start_day_of_week)\n",
    "k_vals <- tibble(neighbors = seq(from = 1, to = 100, by = 5))\n",
    "\n",
    "# Tuning\n",
    "knn_results <- workflow() |>\n",
    "  add_recipe(knn_recipe) |>\n",
    "  add_model(knn_spec) |>\n",
    "  tune_grid(resamples = knn_vfold, grid = k_vals) |>\n",
    "  collect_metrics()\n",
    "\n",
    "# Plot accuracy\n",
    "knn_accuracy <- knn_results |>\n",
    "  filter(.metric == \"accuracy\")\n",
    "\n",
    "#Visualizing the best k\n",
    "cross_val_plot <- knn_accuracy |>\n",
    "  ggplot(aes(x = neighbors, y = mean)) +\n",
    "  geom_point() +\n",
    "  geom_line() +\n",
    "  labs(x = \"Number of Neighbors (k)\", y = \"Cross-validated Accuracy\") +\n",
    "  theme(text = element_text(size = 14))\n",
    "cross_val_plot\n",
    "\n",
    "# Select best k\n",
    "best_k <- knn_accuracy |>\n",
    "  arrange(desc(mean)) |>\n",
    "  slice(1) |>\n",
    "  pull(neighbors)\n"
   ]
  },
  {
   "cell_type": "markdown",
   "id": "fc8fac25-7e56-4ba2-a53c-a7cda94509d5",
   "metadata": {},
   "source": [
    "##### Final Model Fit and Evaluation"
   ]
  },
  {
   "cell_type": "code",
   "execution_count": null,
   "id": "6d2bd4e3-41c6-402b-af68-b37e7b66080c",
   "metadata": {},
   "outputs": [],
   "source": [
    "# Train with best k\n",
    "final_knn_spec <- nearest_neighbor(weight_func = \"rectangular\", neighbors = best_k) |>\n",
    "  set_engine(\"kknn\") |>\n",
    "  set_mode(\"classification\")\n",
    "\n",
    "final_fit <- workflow() |>\n",
    "  add_recipe(knn_recipe) |>\n",
    "  add_model(final_knn_spec)|>\n",
    "  fit(data = training_set)\n",
    "\n",
    "# Predict and evaluate using test set\n",
    "predictions <- predict(final_fit, testing_set) |>\n",
    "  bind_cols(testing_set)\n",
    "\n",
    "conf_mat <- conf_mat(predictions, truth = start_day_of_week, estimate = .pred_class)\n",
    "accuracy <- accuracy(predictions, truth = start_day_of_week, estimate = .pred_class)\n",
    "\n",
    "conf_mat\n",
    "accuracy"
   ]
  },
  {
   "cell_type": "markdown",
   "id": "5c8a74d2-21be-4f4a-a5d8-10afe9f4cd87",
   "metadata": {},
   "source": [
    "The confusion matrix shows that the model has difficulty distinguishing between days, with most predictions leaning heavily toward Friday regardless of the true class"
   ]
  },
  {
   "cell_type": "markdown",
   "id": "c594806c-55b8-48e5-8c01-09f5c0996873",
   "metadata": {},
   "source": [
    "### Discussion \n",
    "My aim was to predict the day of the week a player would be active based on their age, gender and experience. While Friday was correctly identified as the busiest day through our analysis, our KNN classification model did not perform well as it reported an accuracy of ~ 9%. These results were not what I expected when formulating the predictive question. This could be due to a number of reasons. One of the reasons could be that age and experience level alone are  not strong predictors of what day someone plays. Some days had more play sessions recorded than others which could have influenced my model while training. A better model choice than KNN classification in the future could suit this analysis. "
   ]
  },
  {
   "cell_type": "markdown",
   "id": "02a71b7a-6648-490e-98e8-44c0b97f6b41",
   "metadata": {},
   "source": [
    "References - \n",
    "1. IBM. (2021, September 21). Data science: Transforming the future with artificial intelligence. IBM. Retrieved June 20, 2025, from https://www.ibm.com/think/topics/data-science\n",
    "2. Peng, R. D. (2022). Introduction to data science. Johns Hopkins Bloomberg School of Public Health.\n",
    "3. Tidyverse. (2024, December 8). Get/set days component of a date-time. lubridate. https://lubridate.tidyverse.org/reference/day.html\n",
    "4. Whitehead, R. (2024, May 23). Role of data science in the gaming industry. I.O.A. Global. Retrieved June 20, 2025, from https://ioaglobal.org/blog/role-of-data-science-in-gaming-industry/\n"
   ]
  }
 ],
 "metadata": {
  "kernelspec": {
   "display_name": "R",
   "language": "R",
   "name": "ir"
  },
  "language_info": {
   "codemirror_mode": "r",
   "file_extension": ".r",
   "mimetype": "text/x-r-source",
   "name": "R",
   "pygments_lexer": "r",
   "version": "4.3.3"
  }
 },
 "nbformat": 4,
 "nbformat_minor": 5
}
